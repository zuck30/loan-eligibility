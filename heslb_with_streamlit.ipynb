{
 "cells": [
  {
   "cell_type": "code",
   "execution_count": null,
   "id": "d6bf4264-d037-4764-b638-bc2e2118bbf9",
   "metadata": {},
   "outputs": [
    {
     "name": "stderr",
     "output_type": "stream",
     "text": [
      "2025-06-10 06:42:07.266 \n",
      "  \u001b[33m\u001b[1mWarning:\u001b[0m to view this Streamlit app on a browser, run it with the following\n",
      "  command:\n",
      "\n",
      "    streamlit run /opt/anaconda3/lib/python3.12/site-packages/ipykernel_launcher.py [ARGUMENTS]\n"
     ]
    }
   ],
   "source": [
    "import streamlit as st\n",
    "import pandas as pd\n",
    "import joblib\n",
    "\n",
    "# Load the trained model\n",
    "model = joblib.load('heslb_rf_model.pkl')\n",
    "\n",
    "# App title\n",
    "st.title('Loan Eligibility Prediction')\n",
    "\n",
    "# Input fields\n",
    "citizenship = st.selectbox('Citizenship (1 = Tanzanian, 0 = Other)', [0, 1])\n",
    "admission_status = st.selectbox('Admission Status (1 = Valid, 0 = Invalid)', [0, 1])\n",
    "outstanding_loans = st.selectbox('Outstanding Loans (1 = Yes, 0 = No)', [0, 1])\n",
    "academic_performance = st.slider('Academic Performance (GPA)', 0.0, 5.0, 2.5)\n",
    "field_of_study = st.selectbox('Field of Study', ['STEM', 'Humanities', 'Business', 'Health Sciences'])\n",
    "year_of_study = st.selectbox('Year of Study', [1, 2, 3, 4])\n",
    "family_income = st.number_input('Family Income (TZS)', min_value=0.0)\n",
    "number_of_dependents = st.number_input('Number of Dependents', min_value=0)\n",
    "orphan = st.selectbox('Orphan (1 = Yes, 0 = No)', [0, 1])\n",
    "parents_disability = st.selectbox('Parents Disability (1 = Yes, 0 = No)', [0, 1])\n",
    "\n",
    "# Prepare input data\n",
    "input_data = pd.DataFrame({\n",
    "    'Citizenship': [citizenship],\n",
    "    'Admission_Status': [admission_status],\n",
    "    'Outstanding_Loans': [outstanding_loans],\n",
    "    'Academic_Performance': [academic_performance],\n",
    "    'Field_of_Study': [field_of_study],\n",
    "    'Year_of_Study': [year_of_study],\n",
    "    'Family_Income': [family_income],\n",
    "    'Number_of_Dependents': [number_of_dependents],\n",
    "    'Orphan': [orphan],\n",
    "    'Parents_Disability': [parents_disability]\n",
    "})\n",
    "\n",
    "# One-hot encode categorical variables\n",
    "input_data = pd.get_dummies(input_data, columns=['Field_of_Study', 'Year_of_Study'], drop_first=True)\n",
    "\n",
    "# Ensure all expected columns are present (match training data)\n",
    "expected_columns = [\n",
    "    'Citizenship', 'Admission_Status', 'Outstanding_Loans', 'Academic_Performance',\n",
    "    'Family_Income', 'Number_of_Dependents', 'Orphan', 'Parents_Disability',\n",
    "    'Field_of_Study_Humanities', 'Field_of_Study_Business', 'Field_of_Study_Health Sciences',\n",
    "    'Year_of_Study_2', 'Year_of_Study_3', 'Year_of_Study_4'\n",
    "]\n",
    "for col in expected_columns:\n",
    "    if col not in input_data.columns:\n",
    "        input_data[col] = 0\n",
    "\n",
    "# Reorder columns to match training data\n",
    "input_data = input_data[expected_columns]\n",
    "\n",
    "# Predict and display results\n",
    "if st.button('Predict'):\n",
    "    prediction = model.predict(input_data)[0]\n",
    "    probability = model.predict_proba(input_data)[0][1]\n",
    "    st.write(f'**Eligibility:** {\"Eligible\" if prediction == 1 else \"Not Eligible\"}')\n",
    "    st.write(f'**Probability of Eligibility:** {probability:.2f}')"
   ]
  },
  {
   "cell_type": "code",
   "execution_count": null,
   "id": "0dd38821-bf57-41ae-a917-a3a365f9a9b3",
   "metadata": {},
   "outputs": [],
   "source": []
  }
 ],
 "metadata": {
  "kernelspec": {
   "display_name": "Python 3 (ipykernel)",
   "language": "python",
   "name": "python3"
  },
  "language_info": {
   "codemirror_mode": {
    "name": "ipython",
    "version": 3
   },
   "file_extension": ".py",
   "mimetype": "text/x-python",
   "name": "python",
   "nbconvert_exporter": "python",
   "pygments_lexer": "ipython3",
   "version": "3.12.4"
  }
 },
 "nbformat": 4,
 "nbformat_minor": 5
}
